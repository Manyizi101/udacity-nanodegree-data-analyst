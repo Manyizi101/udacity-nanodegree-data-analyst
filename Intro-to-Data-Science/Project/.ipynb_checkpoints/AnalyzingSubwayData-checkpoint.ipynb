{
 "metadata": {
  "name": "",
  "signature": "sha256:0427fb566a994215cf36684e592c92eeee4035bc500410f07d46da39577f8e03"
 },
 "nbformat": 3,
 "nbformat_minor": 0,
 "worksheets": [
  {
   "cells": [
    {
     "cell_type": "heading",
     "level": 1,
     "metadata": {},
     "source": [
      "Analyzing the NYC Subway Dataset"
     ]
    },
    {
     "cell_type": "heading",
     "level": 3,
     "metadata": {},
     "source": [
      "Section 0. Preparation"
     ]
    },
    {
     "cell_type": "code",
     "collapsed": false,
     "input": [
      "import matplotlib\n",
      "%matplotlib inline\n",
      "#%matplotlib osx\n",
      "import pandas\n",
      "import numpy\n",
      "from ggplot import *\n",
      "import statsmodels.api as sm\n",
      "import statsmodels\n",
      "import scipy\n",
      "import matplotlib.pyplot as plt\n",
      "import math\n",
      "import seaborn as sns\n",
      "from datetime import datetime\n",
      "\n",
      "\n",
      "df = pandas.read_csv('turnstile_data_master_with_weather.csv')\n",
      "non_rain = df['ENTRIESn_hourly'][df['rain'] == 0]\n",
      "rain = df['ENTRIESn_hourly'][df['rain'] == 1]"
     ],
     "language": "python",
     "metadata": {},
     "outputs": [],
     "prompt_number": 65
    },
    {
     "cell_type": "markdown",
     "metadata": {},
     "source": [
      "Before doing anything I want to have a look at data."
     ]
    },
    {
     "cell_type": "code",
     "collapsed": false,
     "input": [
      "df.describe()"
     ],
     "language": "python",
     "metadata": {},
     "outputs": [
      {
       "html": [
        "<div style=\"max-height:1000px;max-width:1500px;overflow:auto;\">\n",
        "<table border=\"1\" class=\"dataframe\">\n",
        "  <thead>\n",
        "    <tr style=\"text-align: right;\">\n",
        "      <th></th>\n",
        "      <th>Unnamed: 0</th>\n",
        "      <th>Hour</th>\n",
        "      <th>ENTRIESn_hourly</th>\n",
        "      <th>EXITSn_hourly</th>\n",
        "      <th>maxpressurei</th>\n",
        "      <th>maxdewpti</th>\n",
        "      <th>mindewpti</th>\n",
        "      <th>minpressurei</th>\n",
        "      <th>meandewpti</th>\n",
        "      <th>meanpressurei</th>\n",
        "      <th>fog</th>\n",
        "      <th>rain</th>\n",
        "      <th>meanwindspdi</th>\n",
        "      <th>mintempi</th>\n",
        "      <th>meantempi</th>\n",
        "      <th>maxtempi</th>\n",
        "      <th>precipi</th>\n",
        "      <th>thunder</th>\n",
        "    </tr>\n",
        "  </thead>\n",
        "  <tbody>\n",
        "    <tr>\n",
        "      <th>count</th>\n",
        "      <td> 131951.000000</td>\n",
        "      <td> 131951.000000</td>\n",
        "      <td> 131951.000000</td>\n",
        "      <td> 131951.000000</td>\n",
        "      <td> 131951.000000</td>\n",
        "      <td> 131951.000000</td>\n",
        "      <td> 131951.000000</td>\n",
        "      <td> 131951.000000</td>\n",
        "      <td> 131951.000000</td>\n",
        "      <td> 131951.000000</td>\n",
        "      <td> 131951.000000</td>\n",
        "      <td> 131951.000000</td>\n",
        "      <td> 131951.000000</td>\n",
        "      <td> 131951.000000</td>\n",
        "      <td> 131951.000000</td>\n",
        "      <td> 131951.000000</td>\n",
        "      <td> 131951.000000</td>\n",
        "      <td> 131951</td>\n",
        "    </tr>\n",
        "    <tr>\n",
        "      <th>mean</th>\n",
        "      <td>  65975.000000</td>\n",
        "      <td>     10.896158</td>\n",
        "      <td>   1095.348478</td>\n",
        "      <td>    886.890838</td>\n",
        "      <td>     30.031894</td>\n",
        "      <td>     57.241302</td>\n",
        "      <td>     48.259013</td>\n",
        "      <td>     29.892714</td>\n",
        "      <td>     52.703526</td>\n",
        "      <td>     29.965077</td>\n",
        "      <td>      0.167100</td>\n",
        "      <td>      0.334245</td>\n",
        "      <td>      5.543065</td>\n",
        "      <td>     56.169775</td>\n",
        "      <td>     64.269729</td>\n",
        "      <td>     71.769968</td>\n",
        "      <td>      0.172276</td>\n",
        "      <td>      0</td>\n",
        "    </tr>\n",
        "    <tr>\n",
        "      <th>std</th>\n",
        "      <td>  38091.117022</td>\n",
        "      <td>      6.892084</td>\n",
        "      <td>   2337.015421</td>\n",
        "      <td>   2008.604886</td>\n",
        "      <td>      0.125689</td>\n",
        "      <td>      8.770891</td>\n",
        "      <td>     11.305312</td>\n",
        "      <td>      0.146384</td>\n",
        "      <td>      9.943590</td>\n",
        "      <td>      0.130461</td>\n",
        "      <td>      0.373066</td>\n",
        "      <td>      0.471728</td>\n",
        "      <td>      1.982441</td>\n",
        "      <td>      6.338875</td>\n",
        "      <td>      6.568289</td>\n",
        "      <td>      7.627218</td>\n",
        "      <td>      0.429005</td>\n",
        "      <td>      0</td>\n",
        "    </tr>\n",
        "    <tr>\n",
        "      <th>min</th>\n",
        "      <td>      0.000000</td>\n",
        "      <td>      0.000000</td>\n",
        "      <td>      0.000000</td>\n",
        "      <td>      0.000000</td>\n",
        "      <td>     29.740000</td>\n",
        "      <td>     39.000000</td>\n",
        "      <td>     22.000000</td>\n",
        "      <td>     29.540000</td>\n",
        "      <td>     31.000000</td>\n",
        "      <td>     29.640000</td>\n",
        "      <td>      0.000000</td>\n",
        "      <td>      0.000000</td>\n",
        "      <td>      1.000000</td>\n",
        "      <td>     46.000000</td>\n",
        "      <td>     55.000000</td>\n",
        "      <td>     58.000000</td>\n",
        "      <td>      0.000000</td>\n",
        "      <td>      0</td>\n",
        "    </tr>\n",
        "    <tr>\n",
        "      <th>25%</th>\n",
        "      <td>  32987.500000</td>\n",
        "      <td>      5.000000</td>\n",
        "      <td>     39.000000</td>\n",
        "      <td>     32.000000</td>\n",
        "      <td>     29.960000</td>\n",
        "      <td>     50.000000</td>\n",
        "      <td>     38.000000</td>\n",
        "      <td>     29.840000</td>\n",
        "      <td>     45.000000</td>\n",
        "      <td>     29.910000</td>\n",
        "      <td>      0.000000</td>\n",
        "      <td>      0.000000</td>\n",
        "      <td>      5.000000</td>\n",
        "      <td>     52.000000</td>\n",
        "      <td>     60.000000</td>\n",
        "      <td>     65.000000</td>\n",
        "      <td>      0.000000</td>\n",
        "      <td>      0</td>\n",
        "    </tr>\n",
        "    <tr>\n",
        "      <th>50%</th>\n",
        "      <td>  65975.000000</td>\n",
        "      <td>     12.000000</td>\n",
        "      <td>    279.000000</td>\n",
        "      <td>    232.000000</td>\n",
        "      <td>     30.030000</td>\n",
        "      <td>     57.000000</td>\n",
        "      <td>     51.000000</td>\n",
        "      <td>     29.910000</td>\n",
        "      <td>     54.000000</td>\n",
        "      <td>     29.960000</td>\n",
        "      <td>      0.000000</td>\n",
        "      <td>      0.000000</td>\n",
        "      <td>      5.000000</td>\n",
        "      <td>     54.000000</td>\n",
        "      <td>     63.000000</td>\n",
        "      <td>     71.000000</td>\n",
        "      <td>      0.000000</td>\n",
        "      <td>      0</td>\n",
        "    </tr>\n",
        "    <tr>\n",
        "      <th>75%</th>\n",
        "      <td>  98962.500000</td>\n",
        "      <td>     17.000000</td>\n",
        "      <td>   1109.000000</td>\n",
        "      <td>    847.000000</td>\n",
        "      <td>     30.100000</td>\n",
        "      <td>     64.000000</td>\n",
        "      <td>     55.000000</td>\n",
        "      <td>     29.970000</td>\n",
        "      <td>     60.000000</td>\n",
        "      <td>     30.050000</td>\n",
        "      <td>      0.000000</td>\n",
        "      <td>      1.000000</td>\n",
        "      <td>      6.000000</td>\n",
        "      <td>     60.000000</td>\n",
        "      <td>     68.000000</td>\n",
        "      <td>     78.000000</td>\n",
        "      <td>      0.100000</td>\n",
        "      <td>      0</td>\n",
        "    </tr>\n",
        "    <tr>\n",
        "      <th>max</th>\n",
        "      <td> 131950.000000</td>\n",
        "      <td>     23.000000</td>\n",
        "      <td>  51839.000000</td>\n",
        "      <td>  45249.000000</td>\n",
        "      <td>     30.310000</td>\n",
        "      <td>     70.000000</td>\n",
        "      <td>     66.000000</td>\n",
        "      <td>     30.230000</td>\n",
        "      <td>     68.000000</td>\n",
        "      <td>     30.270000</td>\n",
        "      <td>      1.000000</td>\n",
        "      <td>      1.000000</td>\n",
        "      <td>     12.000000</td>\n",
        "      <td>     70.000000</td>\n",
        "      <td>     78.000000</td>\n",
        "      <td>     86.000000</td>\n",
        "      <td>      2.180000</td>\n",
        "      <td>      0</td>\n",
        "    </tr>\n",
        "  </tbody>\n",
        "</table>\n",
        "</div>"
       ],
       "metadata": {},
       "output_type": "pyout",
       "prompt_number": 66,
       "text": [
        "          Unnamed: 0           Hour  ENTRIESn_hourly  EXITSn_hourly  \\\n",
        "count  131951.000000  131951.000000    131951.000000  131951.000000   \n",
        "mean    65975.000000      10.896158      1095.348478     886.890838   \n",
        "std     38091.117022       6.892084      2337.015421    2008.604886   \n",
        "min         0.000000       0.000000         0.000000       0.000000   \n",
        "25%     32987.500000       5.000000        39.000000      32.000000   \n",
        "50%     65975.000000      12.000000       279.000000     232.000000   \n",
        "75%     98962.500000      17.000000      1109.000000     847.000000   \n",
        "max    131950.000000      23.000000     51839.000000   45249.000000   \n",
        "\n",
        "        maxpressurei      maxdewpti      mindewpti   minpressurei  \\\n",
        "count  131951.000000  131951.000000  131951.000000  131951.000000   \n",
        "mean       30.031894      57.241302      48.259013      29.892714   \n",
        "std         0.125689       8.770891      11.305312       0.146384   \n",
        "min        29.740000      39.000000      22.000000      29.540000   \n",
        "25%        29.960000      50.000000      38.000000      29.840000   \n",
        "50%        30.030000      57.000000      51.000000      29.910000   \n",
        "75%        30.100000      64.000000      55.000000      29.970000   \n",
        "max        30.310000      70.000000      66.000000      30.230000   \n",
        "\n",
        "          meandewpti  meanpressurei            fog           rain  \\\n",
        "count  131951.000000  131951.000000  131951.000000  131951.000000   \n",
        "mean       52.703526      29.965077       0.167100       0.334245   \n",
        "std         9.943590       0.130461       0.373066       0.471728   \n",
        "min        31.000000      29.640000       0.000000       0.000000   \n",
        "25%        45.000000      29.910000       0.000000       0.000000   \n",
        "50%        54.000000      29.960000       0.000000       0.000000   \n",
        "75%        60.000000      30.050000       0.000000       1.000000   \n",
        "max        68.000000      30.270000       1.000000       1.000000   \n",
        "\n",
        "        meanwindspdi       mintempi      meantempi       maxtempi  \\\n",
        "count  131951.000000  131951.000000  131951.000000  131951.000000   \n",
        "mean        5.543065      56.169775      64.269729      71.769968   \n",
        "std         1.982441       6.338875       6.568289       7.627218   \n",
        "min         1.000000      46.000000      55.000000      58.000000   \n",
        "25%         5.000000      52.000000      60.000000      65.000000   \n",
        "50%         5.000000      54.000000      63.000000      71.000000   \n",
        "75%         6.000000      60.000000      68.000000      78.000000   \n",
        "max        12.000000      70.000000      78.000000      86.000000   \n",
        "\n",
        "             precipi  thunder  \n",
        "count  131951.000000   131951  \n",
        "mean        0.172276        0  \n",
        "std         0.429005        0  \n",
        "min         0.000000        0  \n",
        "25%         0.000000        0  \n",
        "50%         0.000000        0  \n",
        "75%         0.100000        0  \n",
        "max         2.180000        0  "
       ]
      }
     ],
     "prompt_number": 66
    },
    {
     "cell_type": "heading",
     "level": 3,
     "metadata": {},
     "source": [
      "Section 1. Statistical Test"
     ]
    },
    {
     "cell_type": "markdown",
     "metadata": {},
     "source": [
      "   The first question which I asked myself was: Is there any significant difference between number of people entering subway in rainy and non rainy days. As shown below, data for this particular question isn't normally distributed. So it's suitable to use non-parametric test. In class I've learnt Mann\u2013Whitney U test. Null hypothesis for our two-sided test will be P(x>y)=0.5, where x - subway crowd in rainy days, y - subway crowd in non rainy days. At first let's check our assumptions about non-Gaussian data using Shapiro-Wilk test:"
     ]
    },
    {
     "cell_type": "code",
     "collapsed": false,
     "input": [
      "scipy.stats.shapiro(rain)"
     ],
     "language": "python",
     "metadata": {},
     "outputs": [
      {
       "metadata": {},
       "output_type": "pyout",
       "prompt_number": 67,
       "text": [
        "(0.4715914726257324, 0.0)"
       ]
      }
     ],
     "prompt_number": 67
    },
    {
     "cell_type": "code",
     "collapsed": false,
     "input": [
      "scipy.stats.shapiro(non_rain)"
     ],
     "language": "python",
     "metadata": {},
     "outputs": [
      {
       "metadata": {},
       "output_type": "pyout",
       "prompt_number": 68,
       "text": [
        "(0.47661787271499634, 0.0)"
       ]
      }
     ],
     "prompt_number": 68
    },
    {
     "cell_type": "markdown",
     "metadata": {},
     "source": [
      "Personaly, I'm very sceptic and always want to confirm results using another approach. For second normality test I'll use scipy.stats.mstats.normaltest based on D'Agostino and Pearson's test (more information you can find in [docs.scipy.org](http://docs.scipy.org/doc/scipy-0.14.0/reference/generated/scipy.stats.mstats.normaltest.html). The method returns p-value for 2-sided chi-quared probability for the hypothesis test."
     ]
    },
    {
     "cell_type": "code",
     "collapsed": false,
     "input": [
      "scipy.stats.mstats.normaltest(rain)"
     ],
     "language": "python",
     "metadata": {},
     "outputs": [
      {
       "metadata": {},
       "output_type": "pyout",
       "prompt_number": 69,
       "text": [
        "(49379.024966302793, 0.0)"
       ]
      }
     ],
     "prompt_number": 69
    },
    {
     "cell_type": "code",
     "collapsed": false,
     "input": [
      "scipy.stats.mstats.normaltest(non_rain)"
     ],
     "language": "python",
     "metadata": {},
     "outputs": [
      {
       "metadata": {},
       "output_type": "pyout",
       "prompt_number": 70,
       "text": [
        "(96614.17551121171, 0.0)"
       ]
      }
     ],
     "prompt_number": 70
    },
    {
     "cell_type": "markdown",
     "metadata": {},
     "source": [
      "   As we can see from Shapiro-Wilk and D'Agostino|Pearson test data is definitely non normal distributed due to extremely low p-value. Now let's calculate statistics and p-value for Mann Whitney U test ([wikipedia.org](http://en.wikipedia.org/wiki/Mann\u2013Whitney_U_test)) and it's python implementation [scipy.stats](http://docs.scipy.org/doc/scipy-0.14.0/reference/generated/scipy.stats.mannwhitneyu.html):"
     ]
    },
    {
     "cell_type": "code",
     "collapsed": false,
     "input": [
      "t, p_value = scipy.stats.mannwhitneyu(rain, non_rain)\n",
      "2 * p_value"
     ],
     "language": "python",
     "metadata": {},
     "outputs": [
      {
       "metadata": {},
       "output_type": "pyout",
       "prompt_number": 71,
       "text": [
        "0.049999825586979442"
       ]
      }
     ],
     "prompt_number": 71
    },
    {
     "cell_type": "markdown",
     "metadata": {},
     "source": [
      "   We multiplied p-value by two in Mann Whitney U test, because scipy returns p-value for one-sided test. P-value is less than 0.05 - our significant level, so we should reject the null hypothesis about same mean Entries in rainy or not days. Let examine this data more and look at means and medians."
     ]
    },
    {
     "cell_type": "code",
     "collapsed": false,
     "input": [
      "\"rain mean = {0}, non-rain mean = {1}\".format(numpy.mean(rain), numpy.mean(non_rain))"
     ],
     "language": "python",
     "metadata": {},
     "outputs": [
      {
       "metadata": {},
       "output_type": "pyout",
       "prompt_number": 72,
       "text": [
        "'rain mean = 1105.44637675, non-rain mean = 1090.27878015'"
       ]
      }
     ],
     "prompt_number": 72
    },
    {
     "cell_type": "code",
     "collapsed": false,
     "input": [
      "\"rain median = {0}, non-rain median = {1}\".format(numpy.median(rain), numpy.median(non_rain))"
     ],
     "language": "python",
     "metadata": {},
     "outputs": [
      {
       "metadata": {},
       "output_type": "pyout",
       "prompt_number": 73,
       "text": [
        "'rain median = 282.0, non-rain median = 278.0'"
       ]
      }
     ],
     "prompt_number": 73
    },
    {
     "cell_type": "markdown",
     "metadata": {},
     "source": [
      "   So it seems that statistical tests are right. In my opinion in shiny days people can walk on the street to work/university. But in rany days it's quite not comfortable, so maybe here is one of the differences. Also I should notice that I used significance level 5%."
     ]
    },
    {
     "cell_type": "heading",
     "level": 3,
     "metadata": {},
     "source": [
      "    Section 2. Linear Regression"
     ]
    },
    {
     "cell_type": "markdown",
     "metadata": {},
     "source": [
      "   In my investigation of given dataset I was trying to predict how many people will enter subway using different predictors. I've used gradient descent and ols methods for this problem. I want to show prediction using ols method.\n",
      "Our response variable will be 'ENTRIESn_hourly'. \n",
      "Our predictiors will be 'EXITSn_hourly', 'rain', 'fog', 'meantempi'.\n",
      "Let's notice that rain and fog is our dummy variables. I decided to use fog and rain because I thought that when it is very foggy or rainy outside people might decide to use the subway more often. Also I decided to use hour variable because it increases R-squared value and maxtempi & meandewpti for their high variance."
     ]
    },
    {
     "cell_type": "code",
     "collapsed": false,
     "input": [
      "predictions = []\n",
      "y = df['ENTRIESn_hourly']\n",
      "x = df[['EXITSn_hourly' ,'rain', 'fog', 'meantempi', 'Hour', 'maxtempi','meandewpti']]\n",
      "x = sm.add_constant(x)\n",
      "model = sm.OLS(y,x)\n",
      "results = model.fit()\n",
      "results.summary()\n"
     ],
     "language": "python",
     "metadata": {},
     "outputs": [
      {
       "html": [
        "<table class=\"simpletable\">\n",
        "<caption>OLS Regression Results</caption>\n",
        "<tr>\n",
        "  <th>Dep. Variable:</th>     <td>ENTRIESn_hourly</td> <th>  R-squared:         </th>  <td>   0.558</td>  \n",
        "</tr>\n",
        "<tr>\n",
        "  <th>Model:</th>                   <td>OLS</td>       <th>  Adj. R-squared:    </th>  <td>   0.558</td>  \n",
        "</tr>\n",
        "<tr>\n",
        "  <th>Method:</th>             <td>Least Squares</td>  <th>  F-statistic:       </th>  <td>2.375e+04</td> \n",
        "</tr>\n",
        "<tr>\n",
        "  <th>Date:</th>             <td>Fri, 16 Jan 2015</td> <th>  Prob (F-statistic):</th>   <td>  0.00</td>   \n",
        "</tr>\n",
        "<tr>\n",
        "  <th>Time:</th>                 <td>05:32:05</td>     <th>  Log-Likelihood:    </th> <td>-1.1569e+06</td>\n",
        "</tr>\n",
        "<tr>\n",
        "  <th>No. Observations:</th>      <td>131951</td>      <th>  AIC:               </th>  <td>2.314e+06</td> \n",
        "</tr>\n",
        "<tr>\n",
        "  <th>Df Residuals:</th>          <td>131943</td>      <th>  BIC:               </th>  <td>2.314e+06</td> \n",
        "</tr>\n",
        "<tr>\n",
        "  <th>Df Model:</th>              <td>     7</td>      <th>                     </th>      <td> </td>     \n",
        "</tr>\n",
        "<tr>\n",
        "  <th>Covariance Type:</th>      <td>nonrobust</td>    <th>                     </th>      <td> </td>     \n",
        "</tr>\n",
        "</table>\n",
        "<table class=\"simpletable\">\n",
        "<tr>\n",
        "        <td></td>           <th>coef</th>     <th>std err</th>      <th>t</th>      <th>P>|t|</th> <th>[95.0% Conf. Int.]</th> \n",
        "</tr>\n",
        "<tr>\n",
        "  <th>const</th>         <td>  380.9771</td> <td>   47.154</td> <td>    8.079</td> <td> 0.000</td> <td>  288.556   473.398</td>\n",
        "</tr>\n",
        "<tr>\n",
        "  <th>EXITSn_hourly</th> <td>    0.8545</td> <td>    0.002</td> <td>  395.629</td> <td> 0.000</td> <td>    0.850     0.859</td>\n",
        "</tr>\n",
        "<tr>\n",
        "  <th>rain</th>          <td>  -35.4214</td> <td>   13.210</td> <td>   -2.681</td> <td> 0.007</td> <td>  -61.314    -9.529</td>\n",
        "</tr>\n",
        "<tr>\n",
        "  <th>fog</th>           <td>   51.5961</td> <td>   13.148</td> <td>    3.924</td> <td> 0.000</td> <td>   25.826    77.366</td>\n",
        "</tr>\n",
        "<tr>\n",
        "  <th>meantempi</th>     <td>  -27.4049</td> <td>    3.948</td> <td>   -6.941</td> <td> 0.000</td> <td>  -35.143   -19.667</td>\n",
        "</tr>\n",
        "<tr>\n",
        "  <th>Hour</th>          <td>   19.7976</td> <td>    0.629</td> <td>   31.475</td> <td> 0.000</td> <td>   18.565    21.030</td>\n",
        "</tr>\n",
        "<tr>\n",
        "  <th>maxtempi</th>      <td>   17.8049</td> <td>    2.739</td> <td>    6.502</td> <td> 0.000</td> <td>   12.437    23.172</td>\n",
        "</tr>\n",
        "<tr>\n",
        "  <th>meandewpti</th>    <td>    4.3164</td> <td>    1.067</td> <td>    4.045</td> <td> 0.000</td> <td>    2.225     6.408</td>\n",
        "</tr>\n",
        "</table>\n",
        "<table class=\"simpletable\">\n",
        "<tr>\n",
        "  <th>Omnibus:</th>       <td>109669.538</td> <th>  Durbin-Watson:     </th>   <td>   1.504</td>  \n",
        "</tr>\n",
        "<tr>\n",
        "  <th>Prob(Omnibus):</th>   <td> 0.000</td>   <th>  Jarque-Bera (JB):  </th> <td>25870638.598</td>\n",
        "</tr>\n",
        "<tr>\n",
        "  <th>Skew:</th>            <td> 3.163</td>   <th>  Prob(JB):          </th>   <td>    0.00</td>  \n",
        "</tr>\n",
        "<tr>\n",
        "  <th>Kurtosis:</th>        <td>71.304</td>   <th>  Cond. No.          </th>   <td>2.44e+04</td>  \n",
        "</tr>\n",
        "</table>"
       ],
       "metadata": {},
       "output_type": "pyout",
       "prompt_number": 74,
       "text": [
        "<class 'statsmodels.iolib.summary.Summary'>\n",
        "\"\"\"\n",
        "                            OLS Regression Results                            \n",
        "==============================================================================\n",
        "Dep. Variable:        ENTRIESn_hourly   R-squared:                       0.558\n",
        "Model:                            OLS   Adj. R-squared:                  0.558\n",
        "Method:                 Least Squares   F-statistic:                 2.375e+04\n",
        "Date:                Fri, 16 Jan 2015   Prob (F-statistic):               0.00\n",
        "Time:                        05:32:05   Log-Likelihood:            -1.1569e+06\n",
        "No. Observations:              131951   AIC:                         2.314e+06\n",
        "Df Residuals:                  131943   BIC:                         2.314e+06\n",
        "Df Model:                           7                                         \n",
        "Covariance Type:            nonrobust                                         \n",
        "=================================================================================\n",
        "                    coef    std err          t      P>|t|      [95.0% Conf. Int.]\n",
        "---------------------------------------------------------------------------------\n",
        "const           380.9771     47.154      8.079      0.000       288.556   473.398\n",
        "EXITSn_hourly     0.8545      0.002    395.629      0.000         0.850     0.859\n",
        "rain            -35.4214     13.210     -2.681      0.007       -61.314    -9.529\n",
        "fog              51.5961     13.148      3.924      0.000        25.826    77.366\n",
        "meantempi       -27.4049      3.948     -6.941      0.000       -35.143   -19.667\n",
        "Hour             19.7976      0.629     31.475      0.000        18.565    21.030\n",
        "maxtempi         17.8049      2.739      6.502      0.000        12.437    23.172\n",
        "meandewpti        4.3164      1.067      4.045      0.000         2.225     6.408\n",
        "==============================================================================\n",
        "Omnibus:                   109669.538   Durbin-Watson:                   1.504\n",
        "Prob(Omnibus):                  0.000   Jarque-Bera (JB):         25870638.598\n",
        "Skew:                           3.163   Prob(JB):                         0.00\n",
        "Kurtosis:                      71.304   Cond. No.                     2.44e+04\n",
        "==============================================================================\n",
        "\n",
        "Warnings:\n",
        "[1] Standard Errors assume that the covariance matrix of the errors is correctly specified.\n",
        "[2] The condition number is large, 2.44e+04. This might indicate that there are\n",
        "strong multicollinearity or other numerical problems.\n",
        "\"\"\""
       ]
      }
     ],
     "prompt_number": 74
    },
    {
     "cell_type": "markdown",
     "metadata": {},
     "source": [
      "   From our summary model we can see that rain variable is not significant for our prediction due to 95% confidence interval contains 0 so we can remove this variable from predictors in future. In summary of our model we can observe mathematical expectation of coefficients of dummy or non-dummy variables, standard deviation, confidence interval and more different useful statistics."
     ]
    },
    {
     "cell_type": "markdown",
     "metadata": {},
     "source": [
      "   Coefficient of determination of our model is equal to 0.557.\n",
      "I want to remember that coefficient of determination has the following meaning - this is the percentage of variance that is explained by our model. We can see that our R-squared is too low to produce accurate predictions."
     ]
    },
    {
     "cell_type": "heading",
     "level": 3,
     "metadata": {},
     "source": [
      "Section 3. Visualization"
     ]
    },
    {
     "cell_type": "markdown",
     "metadata": {},
     "source": [
      "   Let's plot our ols prediction results. Let y-axis be 'ENTRIESn_hourly' and x-axis be 'EXITSn_hourly'. Plotting will be done using matplotlib."
     ]
    },
    {
     "cell_type": "code",
     "collapsed": false,
     "input": [
      "fig, ax = plt.subplots()\n",
      "statsmodels.graphics.regressionplots.plot_fit(results, 'EXITSn_hourly', ax=ax)\n",
      "ax.set_ylabel(\"ENTRIESn_hourly\")\n",
      "ax.set_xlabel(\"EXITSn_hourly\")\n",
      "ax.set_title(\"Linear Regression\")\n",
      "plt.show()"
     ],
     "language": "python",
     "metadata": {},
     "outputs": [
      {
       "metadata": {},
       "output_type": "display_data",
       "png": "[encoded data removed]",
       "text": [
        "<matplotlib.figure.Figure at 0x14bbd36d0>"
       ]
      }
     ],
     "prompt_number": 75
    },
    {
     "cell_type": "markdown",
     "metadata": {},
     "source": [
      "   As we can see from plot, we haven't got good model to predict ENTRIESn_hourly on each subway station.\n",
      "Let's create visualization which contains two histograms: one of  ENTRIESn_hourly for rainy days and one of ENTRIESn_hourly for non-rainy days. For this visualization i've used ggplot."
     ]
    },
    {
     "cell_type": "code",
     "collapsed": false,
     "input": [
      "ggplot(df, aes(x = 'ENTRIESn_hourly')) + geom_histogram(binwidth = 200) + facet_wrap('rain') + xlim(0,5000) +\\\n",
      "ggtitle(\"Hitograms of ENTRIESn_hourly by rain\")"
     ],
     "language": "python",
     "metadata": {},
     "outputs": [
      {
       "metadata": {},
       "output_type": "display_data",
       "png": "[encoded data removed]",
       "text": [
        "<matplotlib.figure.Figure at 0x14bc4c150>"
       ]
      },
      {
       "metadata": {},
       "output_type": "pyout",
       "prompt_number": 76,
       "text": [
        "<ggplot: (347853685)>"
       ]
      }
     ],
     "prompt_number": 76
    },
    {
     "cell_type": "markdown",
     "metadata": {},
     "source": [
      "Let's add more plots and look at subway daily entries/exits with time."
     ]
    },
    {
     "cell_type": "code",
     "collapsed": false,
     "input": [
      "df1 = df[['ENTRIESn_hourly', 'DATEn']].groupby('DATEn').sum()\n",
      "df2 = df[['EXITSn_hourly', 'DATEn']].groupby('DATEn').sum()\n",
      "df1.index.name = 'Date'\n",
      "df1.reset_index(inplace=True)\n",
      "df2.index.name = 'Date'\n",
      "df2.reset_index(inplace=True)\n",
      "df1.columns = ['Date', 'NumberOfPeople']\n",
      "df2.columns = ['Date', 'NumberOfPeople']\n",
      "df1['type'] = 'ENTRIESn_hourly'\n",
      "df2['type'] = 'EXITSn_hourly'\n",
      "total = pandas.concat([df1,df2])\n",
      "total['Date'] = pandas.to_datetime(total['Date'])\n",
      "\n",
      "ggplot(total, aes(x='Date', y='NumberOfPeople', color = 'type')) + geom_point() + geom_line() +\\\n",
      "ggtitle(\"Daily entries and exits\")"
     ],
     "language": "python",
     "metadata": {},
     "outputs": [
      {
       "metadata": {},
       "output_type": "display_data",
       "png": "[encoded data removed]",
       "text": [
        "<matplotlib.figure.Figure at 0x14821ed10>"
       ]
      },
      {
       "metadata": {},
       "output_type": "pyout",
       "prompt_number": 77,
       "text": [
        "<ggplot: (344071797)>"
       ]
      }
     ]
    },
    {
     "cell_type": "markdown",
     "metadata": {},
     "source": [
      "   Surprisingly, but I my thoughts are very different from this plot. I was thinking that summary number of Entries & Exits in subway should be near same value, but from plot we can see big difference between this two variables. Also it's very common that less people use subway in weekends.\n",
      "\n",
      "   The last one - let's create density plots of ENTRIESn_hourly depending on weather i.e. fog and rain\n",
      "As in class we will create fog-rain variable at first."
     ]
    },
    {
     "cell_type": "code",
     "collapsed": false,
     "input": [
      "def format_key(fog, rain):\n",
      "    return '{}fog-{}rain'.format(\n",
      "        '' if fog else 'no',\n",
      "        '' if rain else 'no')\n",
      "\n",
      "fograin = []\n",
      "for index, row in df.iterrows():\n",
      "    fograin.append(format_key(row['fog'], row['rain']))\n",
      "df['fograin'] = pandas.Series(fograin)\n"
     ],
     "language": "python",
     "metadata": {},
     "outputs": []
    },
    {
     "cell_type": "code",
     "collapsed": false,
     "input": [
      "ggplot(df, aes(x='ENTRIESn_hourly', fill='fograin', color='fograin')) + \\\n",
      "    geom_histogram(alpha=0.6, binwidth = 200) + xlim(0,5000) + \\\n",
      "    xlab(\"Number of people\") + ylab(\"Probability\") + ggtitle(\"Histogram of Entries hourly by type of weather\")"
     ],
     "language": "python",
     "metadata": {},
     "outputs": []
    },
    {
     "cell_type": "markdown",
     "metadata": {},
     "source": [
      "From plot we can observe that mode of number of peoples in subway stay near the same. Also we can notice that our data is highly right skewed distributed."
     ]
    },
    {
     "cell_type": "heading",
     "level": 3,
     "metadata": {},
     "source": [
      "Section 4. Conclusion"
     ]
    },
    {
     "cell_type": "markdown",
     "metadata": {},
     "source": [
      "   In this first project we partially investigate NYC Subway Dataset. I was trying to answer the following question: \"Do more people ride\n",
      "the NYC subway when it is raining or when it is not raining?\". As part of this investigation I've obtain two samples (rainy and non rainy days). I needed to check zero hypothesis that means of two samples are equal. At first i need to choose statistical test to do this task correctly. I've checked both samples on normality test. Shapiro-Wilk test rejected zero hypothesis about data normality for both samples. So I've choosen Mann-Whitney U test or Wilcoxon rank test, because it is non-parametric test (no assumptions about distributions). For our two samples Mann-Whitney U test has rejected hypothesis. So we can conclude that distribution of the number of entries statistically different between rainy and non rainy days with significance level 5%.\n",
      "Let's look at this question from Linear Regression side. As we can see from ols summary, rain coefficient include zero in 95% confidence interval, so from this perespective we can conclude that rain doesn't make any difference in number of people riding the NYC subway. There is still need more investigation to make right decision, but anyway I believe in non-parametric approach more. I've build ols model with not so good r-square equals to 0.557. But it can be initial solution before more deeper diving in this dataset.\n",
      "\n",
      "At the end of conclusion I want to cite Mark Twain: \"Lies, damned lies, and statistics\". Who knows? OLS or Mann-Whitney U test? Personally I believe in Mann-Whitney U test, it's more specifically to answer question i'm asking in Section 1."
     ]
    },
    {
     "cell_type": "heading",
     "level": 3,
     "metadata": {},
     "source": [
      "Section 5. Reflection"
     ]
    },
    {
     "cell_type": "markdown",
     "metadata": {},
     "source": [
      "I've found next potential shortcomings of dataset we use:\n",
      "    1. Daily entries aren't equal to daily exits. Is this a bug? Or maybe I just don't have clear understanding of EXITSn_hourly. I think that entries is how many people enter subway, exits - number of people exiting subway. I'm sure this variables should be daily equal. \n",
      "    2. Just one month of data. This implies low variablity of tempreture and other interesting features, so they might be not so important in May, but can be extremely useful in winter.\n",
      "\n",
      "Some notes about application of Linear Regression to our dataset:\n",
      "    1. It's clear to see from figure that our data is seasonal. So we might include seasonal features to predict ENTRIESn_hourly. But classic linear regression doesn't take seasonality into account.\n",
      "    \n",
      "Last notes about statistical tests:\n",
      "    1. In my opinion for any test I should use at least two different approaches to calculate p-value for zero hypothesis. But actually i didn't find fully another approach of non parametric test for my task. Tests on data normality is more developed and i found a good amount of approaches for using in different situations.\n",
      "    "
     ]
    },
    {
     "cell_type": "markdown",
     "metadata": {},
     "source": [
      "P.S. All source code and ipython notebook can be found on [github](https://github.com/orenov/udacity-nanodegree-data-analyst/tree/master/Intro-to-Data-Science)."
     ]
    },
    {
     "cell_type": "heading",
     "level": 3,
     "metadata": {},
     "source": [
      "List of Resources."
     ]
    },
    {
     "cell_type": "markdown",
     "metadata": {},
     "source": [
      "1. Scipy - Normal test. Url: http://docs.scipy.org/doc/scipy-0.14.0/reference/generated/scipy.stats.mstats.normaltest.html\n",
      "2. Wikipedia - Mann-Whitney U test. Url: http://en.wikipedia.org/wiki/Mann\u2013Whitney_U_test\n",
      "3. Scipy - Mann-Whitney U test. Url: http://docs.scipy.org/doc/scipy-0.14.0/reference/generated/scipy.stats.mannwhitneyu.html\n",
      "4. StatsModels - Regression. Url: http://statsmodels.sourceforge.net/0.5.0/generated/statsmodels.regression.linear_model.OLS.html"
     ]
    }
   ],
   "metadata": {}
  }
 ]
}