{
 "metadata": {
  "name": "",
  "signature": "sha256:bff88079288ec2f9b4cab2bc9209d3a18410db621b3b88f6148d29be748fb75a"
 },
 "nbformat": 3,
 "nbformat_minor": 0,
 "worksheets": [
  {
   "cells": [
    {
     "cell_type": "heading",
     "level": 2,
     "metadata": {},
     "source": [
      "Enron POI Classification"
     ]
    },
    {
     "cell_type": "heading",
     "level": 3,
     "metadata": {},
     "source": [
      "Project Overview"
     ]
    },
    {
     "cell_type": "markdown",
     "metadata": {},
     "source": [
      "In 2000, Enron was one of the largest companies in the United States. By 2002, it had collapsed into bankruptcy due to widespread corporate fraud. In the resulting Federal investigation, there was a significant amount of typically confidential information entered into public record, including tens of thousands of emails and detailed financial data for top executives. In this project, I'm going to play detective, and build a person of interest identifier based on financial and email data made public as a result of the Enron scandal."
     ]
    },
    {
     "cell_type": "heading",
     "level": 3,
     "metadata": {},
     "source": [
      "Python Preparation"
     ]
    },
    {
     "cell_type": "code",
     "collapsed": false,
     "input": [
      "import sys\n",
      "import pickle\n",
      "import numpy\n",
      "import pandas\n",
      "import sklearn\n",
      "from ggplot import *\n",
      "import matplotlib\n",
      "%matplotlib inline\n",
      "\n",
      "sys.path.append(\"../tools/\")\n",
      "\n",
      "from feature_format import featureFormat, targetFeatureSplit\n",
      "from tester import test_classifier, dump_classifier_and_data"
     ],
     "language": "python",
     "metadata": {},
     "outputs": [],
     "prompt_number": 380
    },
    {
     "cell_type": "heading",
     "level": 3,
     "metadata": {},
     "source": [
      "Feature Selection"
     ]
    },
    {
     "cell_type": "markdown",
     "metadata": {},
     "source": [
      "I'm going to try to use all features, filter them and choose the best.\n",
      "\n",
      "All available features fall into three major types of features, namely financial features, email features and POI labels.\n",
      "\n",
      "* financial features: ['salary', 'deferral_payments', 'total_payments', 'loan_advances', 'bonus', 'restricted_stock_deferred', 'deferred_income', 'total_stock_value', 'expenses', 'exercised_stock_options', 'other', 'long_term_incentive', 'restricted_stock', 'director_fees']  (all units are in US dollars)\n",
      "\n",
      "* email features: ['to_messages', 'email_address', 'from_poi_to_this_person', 'from_messages', 'from_this_person_to_poi', 'poi', 'shared_receipt_with_poi'] (units are generally number of emails messages; notable exception is \u2018email_address\u2019, which is a text string)\n",
      "\n",
      "* POI label: [\u2018poi\u2019] (boolean, represented as integer)\n"
     ]
    },
    {
     "cell_type": "code",
     "collapsed": false,
     "input": [
      "## Create features list\n",
      "features_list = ['poi', 'salary', 'to_messages', 'deferral_payments', 'total_payments', \n",
      "                 'loan_advances', 'bonus', 'restricted_stock_deferred', \n",
      "                 'deferred_income', 'total_stock_value', 'expenses', 'from_poi_to_this_person', \n",
      "                 'exercised_stock_options', 'from_messages', 'other', 'from_this_person_to_poi', \n",
      "                 'long_term_incentive', 'shared_receipt_with_poi', 'restricted_stock', 'director_fees'] \n",
      "\n",
      "### Load the dictionary containing the dataset\n",
      "enron_data = pickle.load(open(\"final_project_dataset.pkl\", \"r\") )\n",
      "\n",
      "## Load POI names file\n",
      "f = open(\"poi_names.txt\", \"r\")\n",
      "\n",
      "# Print available information for Jeffrey Skilling\n",
      "print enron_data[\"SKILLING JEFFREY K\"]\n",
      "\n"
     ],
     "language": "python",
     "metadata": {},
     "outputs": [
      {
       "output_type": "stream",
       "stream": "stdout",
       "text": [
        "{'salary': 1111258, 'to_messages': 3627, 'deferral_payments': 'NaN', 'total_payments': 8682716, 'exercised_stock_options': 19250000, 'bonus': 5600000, 'restricted_stock': 6843672, 'shared_receipt_with_poi': 2042, 'restricted_stock_deferred': 'NaN', 'total_stock_value': 26093672, 'expenses': 29336, 'loan_advances': 'NaN', 'from_messages': 108, 'other': 22122, 'from_this_person_to_poi': 30, 'poi': True, 'director_fees': 'NaN', 'deferred_income': 'NaN', 'long_term_incentive': 1920000, 'email_address': 'jeff.skilling@enron.com', 'from_poi_to_this_person': 88}\n"
       ]
      }
     ],
     "prompt_number": 381
    },
    {
     "cell_type": "markdown",
     "metadata": {},
     "source": [
      "I want my classifier be adopted to 'NaN' variables, so i'm going to reformat dataset to numpy data frame. Fortunately, python pandas package does all this routine for us in just one line of code. Also let's have a first look on our data using pandas describe."
     ]
    },
    {
     "cell_type": "code",
     "collapsed": false,
     "input": [
      "df = pandas.DataFrame.from_records(list(enron_data.values()))\n",
      "persons = pandas.Series(list(enron_data.keys()))\n",
      "\n",
      "print df.head()"
     ],
     "language": "python",
     "metadata": {},
     "outputs": [
      {
       "output_type": "stream",
       "stream": "stdout",
       "text": [
        "     bonus deferral_payments deferred_income director_fees  \\\n",
        "0   600000               NaN             NaN           NaN   \n",
        "1  1200000           1295738        -1386055           NaN   \n",
        "2   350000               NaN         -400729           NaN   \n",
        "3      NaN               NaN             NaN           NaN   \n",
        "4  1500000               NaN        -3117011           NaN   \n",
        "\n",
        "              email_address exercised_stock_options expenses from_messages  \\\n",
        "0      mark.metts@enron.com                     NaN    94299            29   \n",
        "1                       NaN                 6680544    11200           NaN   \n",
        "2  steven.elliott@enron.com                 4890344    78552           NaN   \n",
        "3     bill.cordes@enron.com                  651850      NaN            12   \n",
        "4    kevin.hannon@enron.com                 5538001    34039            32   \n",
        "\n",
        "  from_poi_to_this_person from_this_person_to_poi        ...         \\\n",
        "0                      38                       1        ...          \n",
        "1                     NaN                     NaN        ...          \n",
        "2                     NaN                     NaN        ...          \n",
        "3                      10                       0        ...          \n",
        "4                      32                      21        ...          \n",
        "\n",
        "  long_term_incentive    other    poi restricted_stock  \\\n",
        "0                 NaN     1740  False           585062   \n",
        "1             1586055  2660303  False          3942714   \n",
        "2                 NaN    12961  False          1788391   \n",
        "3                 NaN      NaN  False           386335   \n",
        "4             1617011    11350   True           853064   \n",
        "\n",
        "  restricted_stock_deferred  salary shared_receipt_with_poi to_messages  \\\n",
        "0                       NaN  365788                     702         807   \n",
        "1                       NaN  267102                     NaN         NaN   \n",
        "2                       NaN  170941                     NaN         NaN   \n",
        "3                       NaN     NaN                      58         764   \n",
        "4                       NaN  243293                    1035        1045   \n",
        "\n",
        "  total_payments total_stock_value  \n",
        "0        1061827            585062  \n",
        "1        5634343          10623258  \n",
        "2         211725           6678735  \n",
        "3            NaN           1038185  \n",
        "4         288682           6391065  \n",
        "\n",
        "[5 rows x 21 columns]\n"
       ]
      }
     ],
     "prompt_number": 382
    },
    {
     "cell_type": "markdown",
     "metadata": {},
     "source": [
      "Looks very good. Let handle 'NaN' values later."
     ]
    },
    {
     "cell_type": "heading",
     "level": 3,
     "metadata": {},
     "source": [
      "Removing Outliers and Handling 'NaN' values"
     ]
    },
    {
     "cell_type": "markdown",
     "metadata": {},
     "source": [
      "Let's define numeric columns list and look at variance without 'NaN'. See how many 'NaN' in each column and make decision about imputing this values or just removing this column from dataset. Also be interesting to see outlieres after imputing and creating tidy dataset."
     ]
    },
    {
     "cell_type": "code",
     "collapsed": false,
     "input": [
      "# Convert to numpy nan\n",
      "df.replace(to_replace='NaN', value=numpy.nan, inplace=True)\n",
      "\n",
      "# Count number of NaN's for columns\n",
      "print df.isnull().sum()\n",
      "\n",
      "# DataFrame dimeansion\n",
      "print df.shape"
     ],
     "language": "python",
     "metadata": {},
     "outputs": [
      {
       "output_type": "stream",
       "stream": "stdout",
       "text": [
        "bonus                         64\n",
        "deferral_payments            107\n",
        "deferred_income               97\n",
        "director_fees                129\n",
        "email_address                 35\n",
        "exercised_stock_options       44\n",
        "expenses                      51\n",
        "from_messages                 60\n",
        "from_poi_to_this_person       60\n",
        "from_this_person_to_poi       60\n",
        "loan_advances                142\n",
        "long_term_incentive           80\n",
        "other                         53\n",
        "poi                            0\n",
        "restricted_stock              36\n",
        "restricted_stock_deferred    128\n",
        "salary                        51\n",
        "shared_receipt_with_poi       60\n",
        "to_messages                   60\n",
        "total_payments                21\n",
        "total_stock_value             20\n",
        "dtype: int64\n",
        "(146, 21)\n"
       ]
      }
     ],
     "prompt_number": 383
    },
    {
     "cell_type": "markdown",
     "metadata": {},
     "source": [
      "I'm don't want to spend so much time on this and i'll do simple deicision. If NaN counter more that 65, I'm going to remove this column, otherwise I do imputation. "
     ]
    },
    {
     "cell_type": "code",
     "collapsed": false,
     "input": [
      "# Removing column from database if counter > 65\n",
      "\n",
      "for column, series in df.iteritems():\n",
      "    if series.isnull().sum() > 65:\n",
      "        df.drop(column, axis=1, inplace=True)\n",
      "       \n",
      "# Drop email address column\n",
      "if 'email_address' in list(df.columns.values):\n",
      "    df.drop('email_address', axis=1, inplace=True)\n",
      "\n",
      "        \n",
      "#impute = sklearn.preprocessing.Imputer(missing_values=numpy.nan, strategy='mean', axis=0)\n",
      "#impute.fit(df)\n",
      "\n",
      "#df_imp = pandas.DataFrame(impute.transform(df.copy(deep=True)))\n",
      "df_imp = df.replace(to_replace=numpy.nan, value=0)\n",
      "df_imp = df.fillna(0).copy(deep=True)\n",
      "df_imp.columns = list(df.columns.values)\n",
      "print df_imp.isnull().sum()\n",
      "print df_imp.head()\n",
      "\n",
      "df_imp.describe()"
     ],
     "language": "python",
     "metadata": {},
     "outputs": [
      {
       "output_type": "stream",
       "stream": "stdout",
       "text": [
        "bonus                      0\n",
        "exercised_stock_options    0\n",
        "expenses                   0\n",
        "from_messages              0\n",
        "from_poi_to_this_person    0\n",
        "from_this_person_to_poi    0\n",
        "other                      0\n",
        "poi                        0\n",
        "restricted_stock           0\n",
        "salary                     0\n",
        "shared_receipt_with_poi    0\n",
        "to_messages                0\n",
        "total_payments             0\n",
        "total_stock_value          0\n",
        "dtype: int64\n",
        "     bonus  exercised_stock_options  expenses  from_messages  \\\n",
        "0   600000                        0     94299             29   \n",
        "1  1200000                  6680544     11200              0   \n",
        "2   350000                  4890344     78552              0   \n",
        "3        0                   651850         0             12   \n",
        "4  1500000                  5538001     34039             32   \n",
        "\n",
        "   from_poi_to_this_person  from_this_person_to_poi    other    poi  \\\n",
        "0                       38                        1     1740  False   \n",
        "1                        0                        0  2660303  False   \n",
        "2                        0                        0    12961  False   \n",
        "3                       10                        0        0  False   \n",
        "4                       32                       21    11350   True   \n",
        "\n",
        "   restricted_stock  salary  shared_receipt_with_poi  to_messages  \\\n",
        "0            585062  365788                      702          807   \n",
        "1           3942714  267102                        0            0   \n",
        "2           1788391  170941                        0            0   \n",
        "3            386335       0                       58          764   \n",
        "4            853064  243293                     1035         1045   \n",
        "\n",
        "   total_payments  total_stock_value  \n",
        "0         1061827             585062  \n",
        "1         5634343           10623258  \n",
        "2          211725            6678735  \n",
        "3               0            1038185  \n",
        "4          288682            6391065  \n"
       ]
      },
      {
       "html": [
        "<div style=\"max-height:1000px;max-width:1500px;overflow:auto;\">\n",
        "<table border=\"1\" class=\"dataframe\">\n",
        "  <thead>\n",
        "    <tr style=\"text-align: right;\">\n",
        "      <th></th>\n",
        "      <th>bonus</th>\n",
        "      <th>exercised_stock_options</th>\n",
        "      <th>expenses</th>\n",
        "      <th>from_messages</th>\n",
        "      <th>from_poi_to_this_person</th>\n",
        "      <th>from_this_person_to_poi</th>\n",
        "      <th>other</th>\n",
        "      <th>poi</th>\n",
        "      <th>restricted_stock</th>\n",
        "      <th>salary</th>\n",
        "      <th>shared_receipt_with_poi</th>\n",
        "      <th>to_messages</th>\n",
        "      <th>total_payments</th>\n",
        "      <th>total_stock_value</th>\n",
        "    </tr>\n",
        "  </thead>\n",
        "  <tbody>\n",
        "    <tr>\n",
        "      <th>count</th>\n",
        "      <td>      146.000000</td>\n",
        "      <td> 1.460000e+02</td>\n",
        "      <td>     146.000000</td>\n",
        "      <td>   146.000000</td>\n",
        "      <td> 146.000000</td>\n",
        "      <td> 146.000000</td>\n",
        "      <td>      146.000000</td>\n",
        "      <td>       146</td>\n",
        "      <td> 1.460000e+02</td>\n",
        "      <td>      146.000000</td>\n",
        "      <td>  146.000000</td>\n",
        "      <td>   146.000000</td>\n",
        "      <td> 1.460000e+02</td>\n",
        "      <td> 1.460000e+02</td>\n",
        "    </tr>\n",
        "    <tr>\n",
        "      <th>mean</th>\n",
        "      <td>  1333474.232877</td>\n",
        "      <td> 4.182736e+06</td>\n",
        "      <td>   70748.267123</td>\n",
        "      <td>   358.602740</td>\n",
        "      <td>  38.226027</td>\n",
        "      <td>  24.287671</td>\n",
        "      <td>   585431.794521</td>\n",
        "      <td> 0.1232877</td>\n",
        "      <td> 1.749257e+06</td>\n",
        "      <td>   365811.356164</td>\n",
        "      <td>  692.986301</td>\n",
        "      <td>  1221.589041</td>\n",
        "      <td> 4.350622e+06</td>\n",
        "      <td> 5.846018e+06</td>\n",
        "    </tr>\n",
        "    <tr>\n",
        "      <th>std</th>\n",
        "      <td>  8094029.239637</td>\n",
        "      <td> 2.607040e+07</td>\n",
        "      <td>  432716.319438</td>\n",
        "      <td>  1441.259868</td>\n",
        "      <td>  73.901124</td>\n",
        "      <td>  79.278206</td>\n",
        "      <td>  3682344.576631</td>\n",
        "      <td> 0.3298989</td>\n",
        "      <td> 1.089995e+07</td>\n",
        "      <td>  2203574.963717</td>\n",
        "      <td> 1072.969492</td>\n",
        "      <td>  2226.770637</td>\n",
        "      <td> 2.693448e+07</td>\n",
        "      <td> 3.624681e+07</td>\n",
        "    </tr>\n",
        "    <tr>\n",
        "      <th>min</th>\n",
        "      <td>        0.000000</td>\n",
        "      <td> 0.000000e+00</td>\n",
        "      <td>       0.000000</td>\n",
        "      <td>     0.000000</td>\n",
        "      <td>   0.000000</td>\n",
        "      <td>   0.000000</td>\n",
        "      <td>        0.000000</td>\n",
        "      <td>     False</td>\n",
        "      <td>-2.604490e+06</td>\n",
        "      <td>        0.000000</td>\n",
        "      <td>    0.000000</td>\n",
        "      <td>     0.000000</td>\n",
        "      <td> 0.000000e+00</td>\n",
        "      <td>-4.409300e+04</td>\n",
        "    </tr>\n",
        "    <tr>\n",
        "      <th>25%</th>\n",
        "      <td>        0.000000</td>\n",
        "      <td> 0.000000e+00</td>\n",
        "      <td>       0.000000</td>\n",
        "      <td>     0.000000</td>\n",
        "      <td>   0.000000</td>\n",
        "      <td>   0.000000</td>\n",
        "      <td>        0.000000</td>\n",
        "      <td>         0</td>\n",
        "      <td> 8.115000e+03</td>\n",
        "      <td>        0.000000</td>\n",
        "      <td>    0.000000</td>\n",
        "      <td>     0.000000</td>\n",
        "      <td> 9.394475e+04</td>\n",
        "      <td> 2.288695e+05</td>\n",
        "    </tr>\n",
        "    <tr>\n",
        "      <th>50%</th>\n",
        "      <td>   300000.000000</td>\n",
        "      <td> 6.082935e+05</td>\n",
        "      <td>   20182.000000</td>\n",
        "      <td>    16.500000</td>\n",
        "      <td>   2.500000</td>\n",
        "      <td>   0.000000</td>\n",
        "      <td>      959.500000</td>\n",
        "      <td>         0</td>\n",
        "      <td> 3.605280e+05</td>\n",
        "      <td>   210596.000000</td>\n",
        "      <td>  102.500000</td>\n",
        "      <td>   289.000000</td>\n",
        "      <td> 9.413595e+05</td>\n",
        "      <td> 9.659550e+05</td>\n",
        "    </tr>\n",
        "    <tr>\n",
        "      <th>75%</th>\n",
        "      <td>   800000.000000</td>\n",
        "      <td> 1.714221e+06</td>\n",
        "      <td>   53740.750000</td>\n",
        "      <td>    51.250000</td>\n",
        "      <td>  40.750000</td>\n",
        "      <td>  13.750000</td>\n",
        "      <td>   150606.500000</td>\n",
        "      <td>         0</td>\n",
        "      <td> 8.145280e+05</td>\n",
        "      <td>   270850.500000</td>\n",
        "      <td>  893.500000</td>\n",
        "      <td>  1585.750000</td>\n",
        "      <td> 1.968287e+06</td>\n",
        "      <td> 2.319991e+06</td>\n",
        "    </tr>\n",
        "    <tr>\n",
        "      <th>max</th>\n",
        "      <td> 97343619.000000</td>\n",
        "      <td> 3.117640e+08</td>\n",
        "      <td> 5235198.000000</td>\n",
        "      <td> 14368.000000</td>\n",
        "      <td> 528.000000</td>\n",
        "      <td> 609.000000</td>\n",
        "      <td> 42667589.000000</td>\n",
        "      <td>      True</td>\n",
        "      <td> 1.303223e+08</td>\n",
        "      <td> 26704229.000000</td>\n",
        "      <td> 5521.000000</td>\n",
        "      <td> 15149.000000</td>\n",
        "      <td> 3.098866e+08</td>\n",
        "      <td> 4.345095e+08</td>\n",
        "    </tr>\n",
        "  </tbody>\n",
        "</table>\n",
        "</div>"
       ],
       "metadata": {},
       "output_type": "pyout",
       "prompt_number": 395,
       "text": [
        "                 bonus  exercised_stock_options        expenses  \\\n",
        "count       146.000000             1.460000e+02      146.000000   \n",
        "mean    1333474.232877             4.182736e+06    70748.267123   \n",
        "std     8094029.239637             2.607040e+07   432716.319438   \n",
        "min           0.000000             0.000000e+00        0.000000   \n",
        "25%           0.000000             0.000000e+00        0.000000   \n",
        "50%      300000.000000             6.082935e+05    20182.000000   \n",
        "75%      800000.000000             1.714221e+06    53740.750000   \n",
        "max    97343619.000000             3.117640e+08  5235198.000000   \n",
        "\n",
        "       from_messages  from_poi_to_this_person  from_this_person_to_poi  \\\n",
        "count     146.000000               146.000000               146.000000   \n",
        "mean      358.602740                38.226027                24.287671   \n",
        "std      1441.259868                73.901124                79.278206   \n",
        "min         0.000000                 0.000000                 0.000000   \n",
        "25%         0.000000                 0.000000                 0.000000   \n",
        "50%        16.500000                 2.500000                 0.000000   \n",
        "75%        51.250000                40.750000                13.750000   \n",
        "max     14368.000000               528.000000               609.000000   \n",
        "\n",
        "                 other        poi  restricted_stock           salary  \\\n",
        "count       146.000000        146      1.460000e+02       146.000000   \n",
        "mean     585431.794521  0.1232877      1.749257e+06    365811.356164   \n",
        "std     3682344.576631  0.3298989      1.089995e+07   2203574.963717   \n",
        "min           0.000000      False     -2.604490e+06         0.000000   \n",
        "25%           0.000000          0      8.115000e+03         0.000000   \n",
        "50%         959.500000          0      3.605280e+05    210596.000000   \n",
        "75%      150606.500000          0      8.145280e+05    270850.500000   \n",
        "max    42667589.000000       True      1.303223e+08  26704229.000000   \n",
        "\n",
        "       shared_receipt_with_poi   to_messages  total_payments  \\\n",
        "count               146.000000    146.000000    1.460000e+02   \n",
        "mean                692.986301   1221.589041    4.350622e+06   \n",
        "std                1072.969492   2226.770637    2.693448e+07   \n",
        "min                   0.000000      0.000000    0.000000e+00   \n",
        "25%                   0.000000      0.000000    9.394475e+04   \n",
        "50%                 102.500000    289.000000    9.413595e+05   \n",
        "75%                 893.500000   1585.750000    1.968287e+06   \n",
        "max                5521.000000  15149.000000    3.098866e+08   \n",
        "\n",
        "       total_stock_value  \n",
        "count       1.460000e+02  \n",
        "mean        5.846018e+06  \n",
        "std         3.624681e+07  \n",
        "min        -4.409300e+04  \n",
        "25%         2.288695e+05  \n",
        "50%         9.659550e+05  \n",
        "75%         2.319991e+06  \n",
        "max         4.345095e+08  "
       ]
      }
     ],
     "prompt_number": 395
    },
    {
     "cell_type": "markdown",
     "metadata": {},
     "source": [
      "Just from summary we can explore big amount of outliers using max and .75 quantile. Actually i don't think that these are outliers or wrong data, it's just extreme values for some persons. But anyway they can ruin classification algorithm, I do data subsetting on features 'bonus' and 'restricted_stock' using 0.9 quantile, they seems to be much extreme in compating with 75 percentile. "
     ]
    },
    {
     "cell_type": "code",
     "collapsed": false,
     "input": [
      "q_bonus = pandas.Series(df_imp['bonus']).quantile(0.9)\n",
      "q_restricted_stock = pandas.Series(df_imp['restricted_stock']).quantile(0.9)\n",
      "\n",
      "df_subset = df_imp.loc[(df_imp['bonus'] < q_bonus) & (df_imp['restricted_stock'] < q_restricted_stock)]\n",
      "df_subset.describe()\n"
     ],
     "language": "python",
     "metadata": {},
     "outputs": [
      {
       "html": [
        "<div style=\"max-height:1000px;max-width:1500px;overflow:auto;\">\n",
        "<table border=\"1\" class=\"dataframe\">\n",
        "  <thead>\n",
        "    <tr style=\"text-align: right;\">\n",
        "      <th></th>\n",
        "      <th>bonus</th>\n",
        "      <th>exercised_stock_options</th>\n",
        "      <th>expenses</th>\n",
        "      <th>from_messages</th>\n",
        "      <th>from_poi_to_this_person</th>\n",
        "      <th>from_this_person_to_poi</th>\n",
        "      <th>other</th>\n",
        "      <th>poi</th>\n",
        "      <th>restricted_stock</th>\n",
        "      <th>salary</th>\n",
        "      <th>shared_receipt_with_poi</th>\n",
        "      <th>to_messages</th>\n",
        "      <th>total_payments</th>\n",
        "      <th>total_stock_value</th>\n",
        "    </tr>\n",
        "  </thead>\n",
        "  <tbody>\n",
        "    <tr>\n",
        "      <th>count</th>\n",
        "      <td>     122.000000</td>\n",
        "      <td>      122.000000</td>\n",
        "      <td>    122.000000</td>\n",
        "      <td>   122.000000</td>\n",
        "      <td> 122.000000</td>\n",
        "      <td> 122.000000</td>\n",
        "      <td>     122.000000</td>\n",
        "      <td>        122</td>\n",
        "      <td>     122.000000</td>\n",
        "      <td>    122.000000</td>\n",
        "      <td>  122.000000</td>\n",
        "      <td>   122.000000</td>\n",
        "      <td>      122.000000</td>\n",
        "      <td>      122.000000</td>\n",
        "    </tr>\n",
        "    <tr>\n",
        "      <th>mean</th>\n",
        "      <td>  336218.196721</td>\n",
        "      <td>  1295559.926230</td>\n",
        "      <td>  31227.836066</td>\n",
        "      <td>   252.508197</td>\n",
        "      <td>  26.819672</td>\n",
        "      <td>  12.344262</td>\n",
        "      <td>  130525.729508</td>\n",
        "      <td> 0.09016393</td>\n",
        "      <td>  354556.409836</td>\n",
        "      <td> 147837.778689</td>\n",
        "      <td>  480.622951</td>\n",
        "      <td>   852.352459</td>\n",
        "      <td>  1059986.959016</td>\n",
        "      <td>  1610365.877049</td>\n",
        "    </tr>\n",
        "    <tr>\n",
        "      <th>std</th>\n",
        "      <td>  415612.537405</td>\n",
        "      <td>  3181163.536178</td>\n",
        "      <td>  44207.937868</td>\n",
        "      <td>  1389.742602</td>\n",
        "      <td>  54.400568</td>\n",
        "      <td>  43.084152</td>\n",
        "      <td>  369685.379304</td>\n",
        "      <td>  0.2875976</td>\n",
        "      <td>  529688.959928</td>\n",
        "      <td> 143883.975014</td>\n",
        "      <td>  809.126295</td>\n",
        "      <td>  1754.431065</td>\n",
        "      <td>  1739894.424508</td>\n",
        "      <td>  3259324.805859</td>\n",
        "    </tr>\n",
        "    <tr>\n",
        "      <th>min</th>\n",
        "      <td>       0.000000</td>\n",
        "      <td>        0.000000</td>\n",
        "      <td>      0.000000</td>\n",
        "      <td>     0.000000</td>\n",
        "      <td>   0.000000</td>\n",
        "      <td>   0.000000</td>\n",
        "      <td>       0.000000</td>\n",
        "      <td>      False</td>\n",
        "      <td>-2604490.000000</td>\n",
        "      <td>      0.000000</td>\n",
        "      <td>    0.000000</td>\n",
        "      <td>     0.000000</td>\n",
        "      <td>        0.000000</td>\n",
        "      <td>   -44093.000000</td>\n",
        "    </tr>\n",
        "    <tr>\n",
        "      <th>25%</th>\n",
        "      <td>       0.000000</td>\n",
        "      <td>        0.000000</td>\n",
        "      <td>      0.000000</td>\n",
        "      <td>     0.000000</td>\n",
        "      <td>   0.000000</td>\n",
        "      <td>   0.000000</td>\n",
        "      <td>       0.000000</td>\n",
        "      <td>          0</td>\n",
        "      <td>       0.000000</td>\n",
        "      <td>      0.000000</td>\n",
        "      <td>    0.000000</td>\n",
        "      <td>     0.000000</td>\n",
        "      <td>    79056.500000</td>\n",
        "      <td>   163502.750000</td>\n",
        "    </tr>\n",
        "    <tr>\n",
        "      <th>50%</th>\n",
        "      <td>   85000.000000</td>\n",
        "      <td>   406678.000000</td>\n",
        "      <td>   9795.500000</td>\n",
        "      <td>    13.500000</td>\n",
        "      <td>   0.000000</td>\n",
        "      <td>   0.000000</td>\n",
        "      <td>     540.000000</td>\n",
        "      <td>          0</td>\n",
        "      <td>  243712.500000</td>\n",
        "      <td> 183572.000000</td>\n",
        "      <td>   23.000000</td>\n",
        "      <td>   152.500000</td>\n",
        "      <td>   791178.500000</td>\n",
        "      <td>   759244.000000</td>\n",
        "    </tr>\n",
        "    <tr>\n",
        "      <th>75%</th>\n",
        "      <td>  687500.000000</td>\n",
        "      <td>  1462267.750000</td>\n",
        "      <td>  50722.000000</td>\n",
        "      <td>    40.750000</td>\n",
        "      <td>  27.250000</td>\n",
        "      <td>   7.000000</td>\n",
        "      <td>   53426.750000</td>\n",
        "      <td>          0</td>\n",
        "      <td>  503958.500000</td>\n",
        "      <td> 259368.500000</td>\n",
        "      <td>  676.250000</td>\n",
        "      <td>   948.000000</td>\n",
        "      <td>  1370406.750000</td>\n",
        "      <td>  1840979.000000</td>\n",
        "    </tr>\n",
        "    <tr>\n",
        "      <th>max</th>\n",
        "      <td> 1500000.000000</td>\n",
        "      <td> 30766064.000000</td>\n",
        "      <td> 228763.000000</td>\n",
        "      <td> 14368.000000</td>\n",
        "      <td> 305.000000</td>\n",
        "      <td> 386.000000</td>\n",
        "      <td> 2818454.000000</td>\n",
        "      <td>       True</td>\n",
        "      <td> 2041016.000000</td>\n",
        "      <td> 655037.000000</td>\n",
        "      <td> 4527.000000</td>\n",
        "      <td> 15149.000000</td>\n",
        "      <td> 15456290.000000</td>\n",
        "      <td> 30766064.000000</td>\n",
        "    </tr>\n",
        "  </tbody>\n",
        "</table>\n",
        "</div>"
       ],
       "metadata": {},
       "output_type": "pyout",
       "prompt_number": 396,
       "text": [
        "                bonus  exercised_stock_options       expenses  from_messages  \\\n",
        "count      122.000000               122.000000     122.000000     122.000000   \n",
        "mean    336218.196721           1295559.926230   31227.836066     252.508197   \n",
        "std     415612.537405           3181163.536178   44207.937868    1389.742602   \n",
        "min          0.000000                 0.000000       0.000000       0.000000   \n",
        "25%          0.000000                 0.000000       0.000000       0.000000   \n",
        "50%      85000.000000            406678.000000    9795.500000      13.500000   \n",
        "75%     687500.000000           1462267.750000   50722.000000      40.750000   \n",
        "max    1500000.000000          30766064.000000  228763.000000   14368.000000   \n",
        "\n",
        "       from_poi_to_this_person  from_this_person_to_poi           other  \\\n",
        "count               122.000000               122.000000      122.000000   \n",
        "mean                 26.819672                12.344262   130525.729508   \n",
        "std                  54.400568                43.084152   369685.379304   \n",
        "min                   0.000000                 0.000000        0.000000   \n",
        "25%                   0.000000                 0.000000        0.000000   \n",
        "50%                   0.000000                 0.000000      540.000000   \n",
        "75%                  27.250000                 7.000000    53426.750000   \n",
        "max                 305.000000               386.000000  2818454.000000   \n",
        "\n",
        "              poi  restricted_stock         salary  shared_receipt_with_poi  \\\n",
        "count         122        122.000000     122.000000               122.000000   \n",
        "mean   0.09016393     354556.409836  147837.778689               480.622951   \n",
        "std     0.2875976     529688.959928  143883.975014               809.126295   \n",
        "min         False   -2604490.000000       0.000000                 0.000000   \n",
        "25%             0          0.000000       0.000000                 0.000000   \n",
        "50%             0     243712.500000  183572.000000                23.000000   \n",
        "75%             0     503958.500000  259368.500000               676.250000   \n",
        "max          True    2041016.000000  655037.000000              4527.000000   \n",
        "\n",
        "        to_messages   total_payments  total_stock_value  \n",
        "count    122.000000       122.000000         122.000000  \n",
        "mean     852.352459   1059986.959016     1610365.877049  \n",
        "std     1754.431065   1739894.424508     3259324.805859  \n",
        "min        0.000000         0.000000      -44093.000000  \n",
        "25%        0.000000     79056.500000      163502.750000  \n",
        "50%      152.500000    791178.500000      759244.000000  \n",
        "75%      948.000000   1370406.750000     1840979.000000  \n",
        "max    15149.000000  15456290.000000    30766064.000000  "
       ]
      }
     ],
     "prompt_number": 396
    },
    {
     "cell_type": "markdown",
     "metadata": {},
     "source": [
      "After this feature engineering let's explore what values do we have and data dimension."
     ]
    },
    {
     "cell_type": "code",
     "collapsed": false,
     "input": [
      "print \"Values:\", list(df_subset.columns.values)\n",
      "\n",
      "print \"Shape: \", df_subset.shape\n",
      "\n",
      "print \"Number of POI in DataSet: \", (df_subset['poi'] == 1).sum()\n",
      "print \"Number of non-POI in Dataset: \", (df_subset['poi'] == 0).sum()"
     ],
     "language": "python",
     "metadata": {},
     "outputs": [
      {
       "output_type": "stream",
       "stream": "stdout",
       "text": [
        "Values: ['bonus', 'exercised_stock_options', 'expenses', 'from_messages', 'from_poi_to_this_person', 'from_this_person_to_poi', 'other', 'poi', 'restricted_stock', 'salary', 'shared_receipt_with_poi', 'to_messages', 'total_payments', 'total_stock_value']\n",
        "Shape:  (122, 14)\n",
        "Number of POI in DataSet:  11\n",
        "Number of non-POI in Dataset:  111\n"
       ]
      }
     ],
     "prompt_number": 397
    },
    {
     "cell_type": "heading",
     "level": 3,
     "metadata": {},
     "source": [
      "Creating new Features"
     ]
    },
    {
     "cell_type": "markdown",
     "metadata": {},
     "source": [
      "In my opinion very useful feature is the ratio between messages connected with poi and all messages. I'm going to name this variable 'poi_ratio'. This variable store ratio in percentages. \n",
      "Also will be added next features:\n",
      "\n",
      "- the fraction of all emails to a person that were sent from a person of interest\n",
      "- the fraction of all emails that a person sent that were addressed to persons of interest\n",
      "\n",
      "The hypothesis behind these features was that there might be stronger email connections between POIs than between POIs and non-POIs, and a scatterplot of these two features suggests that there might be some truth to that hypothesis.\n",
      "\n",
      "Additionally i want to scale 'salary' to range [0,100].\n"
     ]
    },
    {
     "cell_type": "code",
     "collapsed": false,
     "input": [
      "poi_ratio = (df_subset['from_poi_to_this_person'] + df_subset['from_this_person_to_poi']) / (df_subset['from_messages'] + df_subset['to_messages'])\n",
      "fraction_to_poi = (df_subset['from_this_person_to_poi']) / (df_subset['from_messages'])\n",
      "fraction_from_poi = (df_subset['from_poi_to_this_person']) / (df_subset['to_messages'])\n",
      "scale = sklearn.preprocessing.MinMaxScaler(feature_range=(0, 100), copy=True)\n",
      "\n",
      "df_subset['poi_ratio'] = pandas.Series(poi_ratio) * 100\n",
      "df_subset['fraction_to_poi'] = pandas.Series(fraction_to_poi) * 100\n",
      "df_subset['fraction_from_poi'] = pandas.Series(fraction_from_poi) * 100\n",
      "salary_scaled = scale.fit_transform(df_subset['salary'])\n",
      "df_subset.describe()"
     ],
     "language": "python",
     "metadata": {},
     "outputs": [
      {
       "html": [
        "<div style=\"max-height:1000px;max-width:1500px;overflow:auto;\">\n",
        "<table border=\"1\" class=\"dataframe\">\n",
        "  <thead>\n",
        "    <tr style=\"text-align: right;\">\n",
        "      <th></th>\n",
        "      <th>bonus</th>\n",
        "      <th>exercised_stock_options</th>\n",
        "      <th>expenses</th>\n",
        "      <th>from_messages</th>\n",
        "      <th>from_poi_to_this_person</th>\n",
        "      <th>from_this_person_to_poi</th>\n",
        "      <th>other</th>\n",
        "      <th>poi</th>\n",
        "      <th>restricted_stock</th>\n",
        "      <th>salary</th>\n",
        "      <th>shared_receipt_with_poi</th>\n",
        "      <th>to_messages</th>\n",
        "      <th>total_payments</th>\n",
        "      <th>total_stock_value</th>\n",
        "      <th>poi_ratio</th>\n",
        "      <th>fraction_to_poi</th>\n",
        "      <th>fraction_from_poi</th>\n",
        "    </tr>\n",
        "  </thead>\n",
        "  <tbody>\n",
        "    <tr>\n",
        "      <th>count</th>\n",
        "      <td>     122.000000</td>\n",
        "      <td>      122.000000</td>\n",
        "      <td>    122.000000</td>\n",
        "      <td>   122.000000</td>\n",
        "      <td> 122.000000</td>\n",
        "      <td> 122.000000</td>\n",
        "      <td>     122.000000</td>\n",
        "      <td>        122</td>\n",
        "      <td>     122.000000</td>\n",
        "      <td> 122.000000</td>\n",
        "      <td>  122.000000</td>\n",
        "      <td>   122.000000</td>\n",
        "      <td>      122.000000</td>\n",
        "      <td>      122.000000</td>\n",
        "      <td> 67.000000</td>\n",
        "      <td>  67.000000</td>\n",
        "      <td> 67.000000</td>\n",
        "    </tr>\n",
        "    <tr>\n",
        "      <th>mean</th>\n",
        "      <td>  336218.196721</td>\n",
        "      <td>  1295559.926230</td>\n",
        "      <td>  31227.836066</td>\n",
        "      <td>   252.508197</td>\n",
        "      <td>  26.819672</td>\n",
        "      <td>  12.344262</td>\n",
        "      <td>  130525.729508</td>\n",
        "      <td> 0.09016393</td>\n",
        "      <td>  354556.409836</td>\n",
        "      <td>  22.569378</td>\n",
        "      <td>  480.622951</td>\n",
        "      <td>   852.352459</td>\n",
        "      <td>  1059986.959016</td>\n",
        "      <td>  1610365.877049</td>\n",
        "      <td>  4.880109</td>\n",
        "      <td>  17.585502</td>\n",
        "      <td>  3.969706</td>\n",
        "    </tr>\n",
        "    <tr>\n",
        "      <th>std</th>\n",
        "      <td>  415612.537405</td>\n",
        "      <td>  3181163.536178</td>\n",
        "      <td>  44207.937868</td>\n",
        "      <td>  1389.742602</td>\n",
        "      <td>  54.400568</td>\n",
        "      <td>  43.084152</td>\n",
        "      <td>  369685.379304</td>\n",
        "      <td>  0.2875976</td>\n",
        "      <td>  529688.959928</td>\n",
        "      <td>  21.965778</td>\n",
        "      <td>  809.126295</td>\n",
        "      <td>  1754.431065</td>\n",
        "      <td>  1739894.424508</td>\n",
        "      <td>  3259324.805859</td>\n",
        "      <td>  5.099127</td>\n",
        "      <td>  22.254297</td>\n",
        "      <td>  4.485147</td>\n",
        "    </tr>\n",
        "    <tr>\n",
        "      <th>min</th>\n",
        "      <td>       0.000000</td>\n",
        "      <td>        0.000000</td>\n",
        "      <td>      0.000000</td>\n",
        "      <td>     0.000000</td>\n",
        "      <td>   0.000000</td>\n",
        "      <td>   0.000000</td>\n",
        "      <td>       0.000000</td>\n",
        "      <td>      False</td>\n",
        "      <td>-2604490.000000</td>\n",
        "      <td>   0.000000</td>\n",
        "      <td>    0.000000</td>\n",
        "      <td>     0.000000</td>\n",
        "      <td>        0.000000</td>\n",
        "      <td>   -44093.000000</td>\n",
        "      <td>  0.000000</td>\n",
        "      <td>   0.000000</td>\n",
        "      <td>  0.000000</td>\n",
        "    </tr>\n",
        "    <tr>\n",
        "      <th>25%</th>\n",
        "      <td>       0.000000</td>\n",
        "      <td>        0.000000</td>\n",
        "      <td>      0.000000</td>\n",
        "      <td>     0.000000</td>\n",
        "      <td>   0.000000</td>\n",
        "      <td>   0.000000</td>\n",
        "      <td>       0.000000</td>\n",
        "      <td>          0</td>\n",
        "      <td>       0.000000</td>\n",
        "      <td>   0.000000</td>\n",
        "      <td>    0.000000</td>\n",
        "      <td>     0.000000</td>\n",
        "      <td>    79056.500000</td>\n",
        "      <td>   163502.750000</td>\n",
        "      <td>  0.931124</td>\n",
        "      <td>   0.000000</td>\n",
        "      <td>  0.772408</td>\n",
        "    </tr>\n",
        "    <tr>\n",
        "      <th>50%</th>\n",
        "      <td>   85000.000000</td>\n",
        "      <td>   406678.000000</td>\n",
        "      <td>   9795.500000</td>\n",
        "      <td>    13.500000</td>\n",
        "      <td>   0.000000</td>\n",
        "      <td>   0.000000</td>\n",
        "      <td>     540.000000</td>\n",
        "      <td>          0</td>\n",
        "      <td>  243712.500000</td>\n",
        "      <td>  28.024676</td>\n",
        "      <td>   23.000000</td>\n",
        "      <td>   152.500000</td>\n",
        "      <td>   791178.500000</td>\n",
        "      <td>   759244.000000</td>\n",
        "      <td>  2.900167</td>\n",
        "      <td>   6.742640</td>\n",
        "      <td>  2.374203</td>\n",
        "    </tr>\n",
        "    <tr>\n",
        "      <th>75%</th>\n",
        "      <td>  687500.000000</td>\n",
        "      <td>  1462267.750000</td>\n",
        "      <td>  50722.000000</td>\n",
        "      <td>    40.750000</td>\n",
        "      <td>  27.250000</td>\n",
        "      <td>   7.000000</td>\n",
        "      <td>   53426.750000</td>\n",
        "      <td>          0</td>\n",
        "      <td>  503958.500000</td>\n",
        "      <td>  39.596008</td>\n",
        "      <td>  676.250000</td>\n",
        "      <td>   948.000000</td>\n",
        "      <td>  1370406.750000</td>\n",
        "      <td>  1840979.000000</td>\n",
        "      <td>  7.153929</td>\n",
        "      <td>  25.000000</td>\n",
        "      <td>  5.867125</td>\n",
        "    </tr>\n",
        "    <tr>\n",
        "      <th>max</th>\n",
        "      <td> 1500000.000000</td>\n",
        "      <td> 30766064.000000</td>\n",
        "      <td> 228763.000000</td>\n",
        "      <td> 14368.000000</td>\n",
        "      <td> 305.000000</td>\n",
        "      <td> 386.000000</td>\n",
        "      <td> 2818454.000000</td>\n",
        "      <td>       True</td>\n",
        "      <td> 2041016.000000</td>\n",
        "      <td> 100.000000</td>\n",
        "      <td> 4527.000000</td>\n",
        "      <td> 15149.000000</td>\n",
        "      <td> 15456290.000000</td>\n",
        "      <td> 30766064.000000</td>\n",
        "      <td> 22.435175</td>\n",
        "      <td> 100.000000</td>\n",
        "      <td> 21.734104</td>\n",
        "    </tr>\n",
        "  </tbody>\n",
        "</table>\n",
        "</div>"
       ],
       "metadata": {},
       "output_type": "pyout",
       "prompt_number": 398,
       "text": [
        "                bonus  exercised_stock_options       expenses  from_messages  \\\n",
        "count      122.000000               122.000000     122.000000     122.000000   \n",
        "mean    336218.196721           1295559.926230   31227.836066     252.508197   \n",
        "std     415612.537405           3181163.536178   44207.937868    1389.742602   \n",
        "min          0.000000                 0.000000       0.000000       0.000000   \n",
        "25%          0.000000                 0.000000       0.000000       0.000000   \n",
        "50%      85000.000000            406678.000000    9795.500000      13.500000   \n",
        "75%     687500.000000           1462267.750000   50722.000000      40.750000   \n",
        "max    1500000.000000          30766064.000000  228763.000000   14368.000000   \n",
        "\n",
        "       from_poi_to_this_person  from_this_person_to_poi           other  \\\n",
        "count               122.000000               122.000000      122.000000   \n",
        "mean                 26.819672                12.344262   130525.729508   \n",
        "std                  54.400568                43.084152   369685.379304   \n",
        "min                   0.000000                 0.000000        0.000000   \n",
        "25%                   0.000000                 0.000000        0.000000   \n",
        "50%                   0.000000                 0.000000      540.000000   \n",
        "75%                  27.250000                 7.000000    53426.750000   \n",
        "max                 305.000000               386.000000  2818454.000000   \n",
        "\n",
        "              poi  restricted_stock      salary  shared_receipt_with_poi  \\\n",
        "count         122        122.000000  122.000000               122.000000   \n",
        "mean   0.09016393     354556.409836   22.569378               480.622951   \n",
        "std     0.2875976     529688.959928   21.965778               809.126295   \n",
        "min         False   -2604490.000000    0.000000                 0.000000   \n",
        "25%             0          0.000000    0.000000                 0.000000   \n",
        "50%             0     243712.500000   28.024676                23.000000   \n",
        "75%             0     503958.500000   39.596008               676.250000   \n",
        "max          True    2041016.000000  100.000000              4527.000000   \n",
        "\n",
        "        to_messages   total_payments  total_stock_value  poi_ratio  \\\n",
        "count    122.000000       122.000000         122.000000  67.000000   \n",
        "mean     852.352459   1059986.959016     1610365.877049   4.880109   \n",
        "std     1754.431065   1739894.424508     3259324.805859   5.099127   \n",
        "min        0.000000         0.000000      -44093.000000   0.000000   \n",
        "25%        0.000000     79056.500000      163502.750000   0.931124   \n",
        "50%      152.500000    791178.500000      759244.000000   2.900167   \n",
        "75%      948.000000   1370406.750000     1840979.000000   7.153929   \n",
        "max    15149.000000  15456290.000000    30766064.000000  22.435175   \n",
        "\n",
        "       fraction_to_poi  fraction_from_poi  \n",
        "count        67.000000          67.000000  \n",
        "mean         17.585502           3.969706  \n",
        "std          22.254297           4.485147  \n",
        "min           0.000000           0.000000  \n",
        "25%           0.000000           0.772408  \n",
        "50%           6.742640           2.374203  \n",
        "75%          25.000000           5.867125  \n",
        "max         100.000000          21.734104  "
       ]
      }
     ],
     "prompt_number": 398
    },
    {
     "cell_type": "markdown",
     "metadata": {},
     "source": [
      "Let's visualize poi_ratio vs fraction_to_poi."
     ]
    },
    {
     "cell_type": "code",
     "collapsed": false,
     "input": [
      "g = ggplot(aes(x='salary', y='fraction_to_poi', colour='poi'), data=df_subset) + geom_point()\n",
      "print g"
     ],
     "language": "python",
     "metadata": {},
     "outputs": [
      {
       "metadata": {},
       "output_type": "display_data",
       "png": "[encoded data removed]",
       "text": [
        "<matplotlib.figure.Figure at 0x10c55c450>"
       ]
      },
      {
       "output_type": "stream",
       "stream": "stdout",
       "text": [
        "<ggplot: (287667585)>\n"
       ]
      }
     ],
     "prompt_number": 399
    },
    {
     "cell_type": "heading",
     "level": 3,
     "metadata": {},
     "source": [
      "Training Classifier"
     ]
    },
    {
     "cell_type": "markdown",
     "metadata": {},
     "source": [
      "Split the data at first on training and test data. We will use Stratified Shuffle Split due to small dataset"
     ]
    },
    {
     "cell_type": "code",
     "collapsed": false,
     "input": [
      "labels = df_subset['poi'].copy(deep=True).astype(int).as_matrix()\n",
      "features = (df_subset.drop('poi', axis=1)).fillna(0).copy(deep=True).as_matrix()\n",
      "shuffle = sklearn.cross_validation.StratifiedShuffleSplit(labels, 4, test_size=0.3, random_state=0)\n",
      "\n",
      "print labels\n",
      "print features"
     ],
     "language": "python",
     "metadata": {},
     "outputs": [
      {
       "output_type": "stream",
       "stream": "stdout",
       "text": [
        "[0 0 0 1 0 0 0 0 0 0 0 0 0 1 0 0 0 0 0 0 0 0 0 0 0 1 0 0 0 0 0 0 0 0 1 0 0\n",
        " 0 0 0 0 0 0 0 0 1 0 0 0 0 0 0 0 0 0 0 0 0 0 0 0 0 0 0 0 1 0 0 0 0 0 0 0 1\n",
        " 0 1 0 0 0 0 0 0 0 0 0 0 0 0 0 0 0 0 0 0 0 0 0 0 0 0 0 0 0 0 0 0 0 1 0 0 0\n",
        " 0 0 1 0 0 0 0 0 0 0 1]\n",
        "[[  6.00000000e+05   0.00000000e+00   9.42990000e+04 ...,   4.66507177e+00\n",
        "    3.44827586e+00   4.70879802e+00]\n",
        " [  3.50000000e+05   4.89034400e+06   7.85520000e+04 ...,   0.00000000e+00\n",
        "    0.00000000e+00   0.00000000e+00]\n",
        " [  0.00000000e+00   6.51850000e+05   0.00000000e+00 ...,   1.28865979e+00\n",
        "    0.00000000e+00   1.30890052e+00]\n",
        " ..., \n",
        " [  6.00000000e+05   3.18125000e+06   0.00000000e+00 ...,   0.00000000e+00\n",
        "    0.00000000e+00   0.00000000e+00]\n",
        " [  8.00000000e+05   7.65920000e+05   9.62680000e+04 ...,   2.24351747e+01\n",
        "    5.00000000e+01   2.17341040e+01]\n",
        " [  6.00000000e+05   3.84728000e+05   1.25978000e+05 ...,   6.52418448e+00\n",
        "    3.75000000e+01   5.95647194e+00]]\n"
       ]
      }
     ],
     "prompt_number": 401
    },
    {
     "cell_type": "markdown",
     "metadata": {},
     "source": [
      "Let's try four different initial models, and then start tune parameters of few models."
     ]
    },
    {
     "cell_type": "heading",
     "level": 4,
     "metadata": {},
     "source": [
      "Random Forest"
     ]
    },
    {
     "cell_type": "code",
     "collapsed": false,
     "input": [
      "from sklearn.ensemble import RandomForestClassifier\n",
      "\n",
      "rf_clf = RandomForestClassifier(n_estimators=10)\n",
      "scores = sklearn.cross_validation.cross_val_score(rf_clf, features, labels)\n",
      "\n",
      "print scores"
     ],
     "language": "python",
     "metadata": {},
     "outputs": [
      {
       "output_type": "stream",
       "stream": "stdout",
       "text": [
        "[ 0.90243902  0.87804878  0.925     ]\n"
       ]
      }
     ],
     "prompt_number": 402
    },
    {
     "cell_type": "heading",
     "level": 4,
     "metadata": {},
     "source": [
      "AdaBoost"
     ]
    },
    {
     "cell_type": "code",
     "collapsed": false,
     "input": [
      "from sklearn.ensemble import AdaBoostClassifier\n",
      "\n",
      "ab_clf = AdaBoostClassifier(n_estimators=100)\n",
      "scores = sklearn.cross_validation.cross_val_score(ab_clf, features, labels)\n",
      "print scores "
     ],
     "language": "python",
     "metadata": {},
     "outputs": [
      {
       "output_type": "stream",
       "stream": "stdout",
       "text": [
        "[ 0.92682927  0.90243902  0.925     ]\n"
       ]
      }
     ],
     "prompt_number": 403
    },
    {
     "cell_type": "heading",
     "level": 4,
     "metadata": {},
     "source": [
      "Extremely Randomized Tree"
     ]
    },
    {
     "cell_type": "code",
     "collapsed": false,
     "input": [
      "from sklearn.ensemble import ExtraTreesClassifier\n",
      "\n",
      "erf_clf = ExtraTreesClassifier(n_estimators=10, max_depth=None, min_samples_split=1, random_state=0)\n",
      "scores = sklearn.cross_validation.cross_val_score(erf_clf, features, labels)\n",
      "print scores"
     ],
     "language": "python",
     "metadata": {},
     "outputs": [
      {
       "output_type": "stream",
       "stream": "stdout",
       "text": [
        "[ 0.90243902  0.90243902  0.925     ]\n"
       ]
      }
     ],
     "prompt_number": 404
    },
    {
     "cell_type": "heading",
     "level": 4,
     "metadata": {},
     "source": [
      "Gaussian Naive Bayes"
     ]
    },
    {
     "cell_type": "code",
     "collapsed": false,
     "input": [
      "from sklearn.naive_bayes import GaussianNB\n",
      "\n",
      "gnb_clf = GaussianNB()\n",
      "scores = sklearn.cross_validation.cross_val_score(gnb_clf, features, labels)\n",
      "print scores"
     ],
     "language": "python",
     "metadata": {},
     "outputs": [
      {
       "output_type": "stream",
       "stream": "stdout",
       "text": [
        "[ 0.75609756  0.85365854  0.8       ]\n"
       ]
      }
     ],
     "prompt_number": 405
    },
    {
     "cell_type": "heading",
     "level": 3,
     "metadata": {},
     "source": [
      "Tunning Choosen Classifiers"
     ]
    },
    {
     "cell_type": "markdown",
     "metadata": {},
     "source": [
      "Choosen Algorithms:\n",
      "\n",
      "- Random Forest\n",
      "- AdaBoost\n",
      "\n",
      "Why not SVM? It's too slow for tuning, i want more computational time efficient algorithm.\n",
      "\n",
      "Why not NB? It's too simple, and from initial scores it's seems not to be good choose.\n",
      "\n",
      "Why not Extremely Randomized Forest? It's too complicated for tuning."
     ]
    },
    {
     "cell_type": "heading",
     "level": 4,
     "metadata": {},
     "source": [
      "Tuning Random Forest"
     ]
    },
    {
     "cell_type": "markdown",
     "metadata": {},
     "source": [
      "Let's investigate main parameters of random forest:\n",
      "\n",
      "- min_samples_split\n",
      "- n_estimators\n",
      "- min_samples_leaf\n",
      "- criterion"
     ]
    },
    {
     "cell_type": "code",
     "collapsed": false,
     "input": [
      "from sklearn import grid_search\n",
      "\n",
      "cv = sklearn.cross_validation.StratifiedShuffleSplit(labels, n_iter=10)\n",
      "\n",
      "def scoring(estimator, features_test, labels_test):\n",
      "     labels_pred = estimator.predict(features_test)\n",
      "     p = sklearn.metrics.precision_score(labels_test, labels_pred, average='micro')\n",
      "     r = sklearn.metrics.recall_score(labels_test, labels_pred, average='micro')\n",
      "     if p > 0.3 and r > 0.3:\n",
      "            return p+r-0.6\n",
      "     return 0\n",
      "     #return sklearn.metrics.f1_score(labels_test, estimator.predict(features_test), average = 'macro' )\n",
      "                                     \n",
      "parameters = {'max_depth': [2,3,4,5,6],'min_samples_split':[2,3,4,5], 'n_estimators':[10,15,20,50], 'min_samples_leaf':[1,2,3,4], 'criterion':('gini', 'entropy')}\n",
      "rf_clf = RandomForestClassifier()\n",
      "rfclf = grid_search.GridSearchCV(rf_clf, parameters, scoring = scoring, cv = cv)\n",
      "rfclf.fit(features, labels)\n",
      "\n",
      "print rfclf.best_estimator_\n",
      "print rfclf.best_score_"
     ],
     "language": "python",
     "metadata": {},
     "outputs": [
      {
       "output_type": "stream",
       "stream": "stdout",
       "text": [
        "RandomForestClassifier(bootstrap=True, compute_importances=None,\n",
        "            criterion='gini', max_depth=5, max_features='auto',\n",
        "            max_leaf_nodes=None, min_density=None, min_samples_leaf=1,\n",
        "            min_samples_split=2, n_estimators=20, n_jobs=1,\n",
        "            oob_score=False, random_state=None, verbose=0)\n",
        "0.56\n"
       ]
      }
     ],
     "prompt_number": 406
    },
    {
     "cell_type": "heading",
     "level": 4,
     "metadata": {},
     "source": [
      "Tuning AdaBoost"
     ]
    },
    {
     "cell_type": "markdown",
     "metadata": {},
     "source": [
      "Let's investigate main parameters of adaboost:\n",
      "\n",
      "- n_estimators\n",
      "- learning_rate\n",
      "- algorithm"
     ]
    },
    {
     "cell_type": "code",
     "collapsed": false,
     "input": [
      "from sklearn import grid_search\n",
      "from sklearn.tree import DecisionTreeClassifier\n",
      "from sklearn.svm import SVC\n",
      "parameters = {'n_estimators' : [10, 30, 40, 50, 100,150], 'learning_rate' : [0.5, 1, 1.5, 2, 2.5], 'algorithm' : ('SAMME', 'SAMME.R')}\n",
      "ada_clf = AdaBoostClassifier()\n",
      "adaclf = grid_search.GridSearchCV(ada_clf, parameters, scoring = scoring, cv = cv)\n",
      "adaclf.fit(features, labels)\n",
      "\n",
      "print adaclf.best_estimator_\n",
      "print adaclf.best_score_"
     ],
     "language": "python",
     "metadata": {},
     "outputs": [
      {
       "output_type": "stream",
       "stream": "stdout",
       "text": [
        "AdaBoostClassifier(algorithm='SAMME', base_estimator=None, learning_rate=1.5,\n",
        "          n_estimators=10, random_state=None)\n",
        "0.74\n"
       ]
      }
     ],
     "prompt_number": 407
    },
    {
     "cell_type": "heading",
     "level": 3,
     "metadata": {},
     "source": [
      "Testing Classifier"
     ]
    },
    {
     "cell_type": "heading",
     "level": 4,
     "metadata": {},
     "source": [
      "Testing Random Forest best estimator"
     ]
    },
    {
     "cell_type": "code",
     "collapsed": false,
     "input": [
      "rf_best_clf = rfclf.best_estimator_\n",
      "list_cols = list(df_subset.columns.values)\n",
      "list_cols.remove('poi')\n",
      "list_cols.insert(0, 'poi')\n",
      "data = df_subset[list_cols].fillna(0).to_dict(orient='records')\n",
      "enron_data_sub = {}\n",
      "counter = 0\n",
      "for item in data:\n",
      "    enron_data_sub[counter] = item\n",
      "    counter += 1\n",
      "    \n",
      "test_classifier(rf_best_clf, enron_data_sub, list_cols)\n"
     ],
     "language": "python",
     "metadata": {},
     "outputs": [
      {
       "output_type": "stream",
       "stream": "stdout",
       "text": [
        "RandomForestClassifier(bootstrap=True, compute_importances=None,\n",
        "            criterion='gini', max_depth=5, max_features='auto',\n",
        "            max_leaf_nodes=None, min_density=None, min_samples_leaf=1,\n",
        "            min_samples_split=2, n_estimators=20, n_jobs=1,\n",
        "            oob_score=False, random_state=None, verbose=0)\n",
        "\tAccuracy: 0.92362\tPrecision: 0.51383\tRecall: 0.13000\tF1: 0.20750\tF2: 0.15283\n",
        "\tTotal predictions: 13000\tTrue positives:  130\tFalse positives:  123\tFalse negatives:  870\tTrue negatives: 11877\n",
        "\n"
       ]
      }
     ],
     "prompt_number": 409
    },
    {
     "cell_type": "heading",
     "level": 4,
     "metadata": {},
     "source": [
      "Testing AdaBoost best estimator"
     ]
    },
    {
     "cell_type": "code",
     "collapsed": false,
     "input": [
      "ada_best_clf = adaclf.best_estimator_\n",
      "test_classifier(ada_best_clf, enron_data_sub, list_cols)"
     ],
     "language": "python",
     "metadata": {},
     "outputs": [
      {
       "output_type": "stream",
       "stream": "stdout",
       "text": [
        "AdaBoostClassifier(algorithm='SAMME', base_estimator=None, learning_rate=1.5,\n",
        "          n_estimators=10, random_state=None)\n",
        "\tAccuracy: 0.90808\tPrecision: 0.38351\tRecall: 0.32100\tF1: 0.34948\tF2: 0.33182\n",
        "\tTotal predictions: 13000\tTrue positives:  321\tFalse positives:  516\tFalse negatives:  679\tTrue negatives: 11484\n",
        "\n"
       ]
      }
     ],
     "prompt_number": 410
    },
    {
     "cell_type": "heading",
     "level": 3,
     "metadata": {},
     "source": [
      "Dump successful classifier"
     ]
    },
    {
     "cell_type": "markdown",
     "metadata": {},
     "source": [
      "Hopefully my AdaBoost beat 0.3 precision and recall. Unfortunately random forest not."
     ]
    },
    {
     "cell_type": "code",
     "collapsed": false,
     "input": [
      "dump_classifier_and_data(ada_best_clf, enron_data_sub, list_cols)"
     ],
     "language": "python",
     "metadata": {},
     "outputs": [],
     "prompt_number": 412
    },
    {
     "cell_type": "markdown",
     "metadata": {},
     "source": [
      "More code and other stuff can be found here https://github.com/orenov/udacity-nanodegree-data-analyst/tree/master/Machine-Learning/final_project."
     ]
    },
    {
     "cell_type": "heading",
     "level": 3,
     "metadata": {},
     "source": [
      "List Of Resources"
     ]
    },
    {
     "cell_type": "markdown",
     "metadata": {},
     "source": [
      "- sklearn documentation: http://scikit-learn.org/stable/index.html\n",
      "- pandas documentation: http://pandas.pydata.org"
     ]
    }
   ],
   "metadata": {}
  }
 ]
}